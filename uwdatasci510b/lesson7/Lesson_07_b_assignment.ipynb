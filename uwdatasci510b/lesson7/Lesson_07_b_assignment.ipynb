{
 "cells": [
  {
   "cell_type": "markdown",
   "metadata": {},
   "source": [
    "# Assignment\n",
    "\n",
    "## Summary of instructions\n",
    "\n",
    "1. <u>Get Corpora:</u>  use pandas read_csv with sep='\\t' to read in the following 2 files available from the us naval academy:\n",
    "- url = 'https://www.usna.edu/Users/cs/nchamber/data/twitter/keyword-tweets.txt'\n",
    "- url = 'https://www.usna.edu/Users/cs/nchamber/data/twitter/general-tweets.txt'\n",
    "<br/> <span style=\"color:red\" float:right>[1 point]</span>\n",
    "\n",
    "2. <u>Combine to Corpus:</u> concatenate these 2 data sets into a single data frame called LabeledTweets that has 2 columns, named Sentiment and Tweet <span style=\"color:red\" float:right>[1 point]</span>\n",
    "\n",
    "3. <u>Rename Labels:</u> Replace sentiment labels 'POLIT': 1, 'NOT': 0; <span style=\"color:red\" float:right>[0 point]</span>\n",
    "\n",
    "4. <u>Clean Tweets:</u>\n",
    "   1. remove all tokens that contain a \"@\". Remove the whole token, not just the character.\n",
    "   2. remove all tokens that contain \"http\". Remove the whole token, not just the characters.\n",
    "   3. **replace** (not remove) all punctuation marks with a space (\" \")\n",
    "   4. **replace** all numbers with a space\n",
    "   5. **replace** all non ascii characters with a space\n",
    "   7. convert all characters to lowercase\n",
    "   8. strip extra whitespaces\n",
    "   9. lemmatize tokens\n",
    "   9. No need to remove stopwords because TfidfVectorizer will take care of that\n",
    "<br/><span style=\"color:red\" float:right>[9 point]</span>\n",
    "\n",
    "5. <u>Create TF-IDF:</u> Use TfidfVectorizer from sklearn to prepare the data for machine learning.  Use max_features = 50;  <span style=\"color:red\" float:right>[2 point]</span>\n",
    "\n",
    "6. <u>Train Classifier:</u> Use sklearn LogisticRegression to train a model on the results on 75% of the data. <span style=\"color:red\" float:right>[1 point]</span>\n",
    "\n",
    "7. <u>Determine Accuracies:</u>  Determine the accuracy on the training data and the test data.   Determine the baseline accuracy. <span style=\"color:red\" float:right>[1 point]</span>\n",
    "\n",
    "8. <u>Relate number of features to accuracy:</u> Repeat steps 5, 6, and 7  with TfidfVectorizer max_features set to 1, 2, 5, 15, 50, 150, 500, 1500, 5000, 50000 and discuss your accuracies. <span style=\"color:red\" float:right>[2 point]</span>"
   ]
  },
  {
   "cell_type": "code",
   "execution_count": 1,
   "metadata": {},
   "outputs": [],
   "source": [
    "# Packages\n",
    "# Basic Data Science packages\n",
    "import pandas as pd\n",
    "import numpy as np\n",
    "\n",
    "# Basic text processing packages\n",
    "import string\n",
    "import re\n",
    "from nltk.stem.wordnet import WordNetLemmatizer\n",
    "from nltk.corpus import stopwords\n",
    "\n",
    "# Basic Machine Learning packages\n",
    "from sklearn.feature_extraction.text import TfidfVectorizer\n",
    "from sklearn.model_selection import train_test_split\n",
    "from sklearn.linear_model import LogisticRegression\n",
    "\n",
    "# Data Presentation\n",
    "import matplotlib.pyplot as plt\n",
    "%matplotlib inline"
   ]
  },
  {
   "cell_type": "markdown",
   "metadata": {},
   "source": [
    "1. <u>Get Corpora:</u>  use `pandas` `read_csv` with `sep='\\t'` to read in the following 2 files available from the us naval academy:\n",
    "- url = 'https://www.usna.edu/Users/cs/nchamber/data/twitter/keyword-tweets.txt'\n",
    "- url = 'https://www.usna.edu/Users/cs/nchamber/data/twitter/general-tweets.txt'\n",
    "<br/> <span style=\"color:red\" float:right>[1 point]</span>\n",
    "\n",
    "Elaboration:  Read in the data directly from the files posted on the websites.  Alternately, first download the files and then read in the data from your local copies.  The result will be two dataframes with default column headers."
   ]
  },
  {
   "cell_type": "code",
   "execution_count": 27,
   "metadata": {},
   "outputs": [],
   "source": [
    "# Add code here\n",
    "txtfiles = ['../../data/keyword-tweets.txt', '../../data/general-tweets.txt']\n",
    "names = ['orig_label','context']\n",
    "tweet_df = pd.read_csv(txtfiles[0],sep='\\t',names=names)\n",
    "other = pd.read_csv(txtfiles[1],sep='\\t',names=names)\n"
   ]
  },
  {
   "cell_type": "markdown",
   "metadata": {},
   "source": [
    "2. <u>Combine to Corpus:</u> concatenate these 2 data sets into a single data frame called `LabeledTweets` that has 2 columns, named `Sentiment` and `Tweet` <span style=\"color:red\" float:right>[1 point]</span>\n",
    "\n",
    "Elaboration:  Concatenate the two data frames.  Watch out that the indices are reset and are sequential from 0 to 4003.  After concatenation, rename the columns."
   ]
  },
  {
   "cell_type": "code",
   "execution_count": 28,
   "metadata": {},
   "outputs": [],
   "source": [
    "# Add code here\n",
    "tweet_df = tweet_df.append(other,sort=False)\n"
   ]
  },
  {
   "cell_type": "markdown",
   "metadata": {},
   "source": [
    "3. <u>Rename Labels:</u> Replace sentiment labels `'POLIT': 1, 'NOT': 0`; <span style=\"color:red\" float:right>[0 point]</span>\n",
    "\n",
    "Elaboration:  No need to cast the sentiment column to the category data type.  "
   ]
  },
  {
   "cell_type": "code",
   "execution_count": 29,
   "metadata": {},
   "outputs": [
    {
     "data": {
      "text/html": [
       "<div>\n",
       "<style scoped>\n",
       "    .dataframe tbody tr th:only-of-type {\n",
       "        vertical-align: middle;\n",
       "    }\n",
       "\n",
       "    .dataframe tbody tr th {\n",
       "        vertical-align: top;\n",
       "    }\n",
       "\n",
       "    .dataframe thead th {\n",
       "        text-align: right;\n",
       "    }\n",
       "</style>\n",
       "<table border=\"1\" class=\"dataframe\">\n",
       "  <thead>\n",
       "    <tr style=\"text-align: right;\">\n",
       "      <th></th>\n",
       "      <th>orig_label</th>\n",
       "      <th>context</th>\n",
       "      <th>label</th>\n",
       "    </tr>\n",
       "  </thead>\n",
       "  <tbody>\n",
       "    <tr>\n",
       "      <th>0</th>\n",
       "      <td>POLIT</td>\n",
       "      <td>Global Voices Online Â» Alex Castro: A liberal...</td>\n",
       "      <td>1</td>\n",
       "    </tr>\n",
       "    <tr>\n",
       "      <th>1</th>\n",
       "      <td>POLIT</td>\n",
       "      <td>Do the Conservatives Have a Death Wish? http:/...</td>\n",
       "      <td>1</td>\n",
       "    </tr>\n",
       "    <tr>\n",
       "      <th>2</th>\n",
       "      <td>NOT</td>\n",
       "      <td>@MMFlint I've seen all of your movies and Capi...</td>\n",
       "      <td>0</td>\n",
       "    </tr>\n",
       "    <tr>\n",
       "      <th>3</th>\n",
       "      <td>POLIT</td>\n",
       "      <td>RT @AllianceAlert: * House Dems ask for civili...</td>\n",
       "      <td>1</td>\n",
       "    </tr>\n",
       "    <tr>\n",
       "      <th>4</th>\n",
       "      <td>POLIT</td>\n",
       "      <td>RT @AdamSmithInst Quote of the week: My politi...</td>\n",
       "      <td>1</td>\n",
       "    </tr>\n",
       "  </tbody>\n",
       "</table>\n",
       "</div>"
      ],
      "text/plain": [
       "  orig_label                                            context  label\n",
       "0      POLIT  Global Voices Online Â» Alex Castro: A liberal...      1\n",
       "1      POLIT  Do the Conservatives Have a Death Wish? http:/...      1\n",
       "2        NOT  @MMFlint I've seen all of your movies and Capi...      0\n",
       "3      POLIT  RT @AllianceAlert: * House Dems ask for civili...      1\n",
       "4      POLIT  RT @AdamSmithInst Quote of the week: My politi...      1"
      ]
     },
     "execution_count": 29,
     "metadata": {},
     "output_type": "execute_result"
    }
   ],
   "source": [
    "# Add code here\n",
    "tweet_df['label'] = tweet_df['orig_label'].transform(lambda x:1 if x == 'POLIT' else 0)\n",
    "tweet_df.head()"
   ]
  },
  {
   "cell_type": "markdown",
   "metadata": {},
   "source": [
    "4. <u>Clean Tweets:</u>\n",
    "   1. remove all tokens that contain a \"@\". Remove the whole token, not just the character.\n",
    "   2. remove all tokens that contain \"http\". Remove the whole token, not just the characters.\n",
    "   3. **replace** (not remove) all punctuation marks with a space (\" \")\n",
    "   4. **replace** all numbers with a space\n",
    "   5. **replace** all non ascii characters with a space\n",
    "   7. convert all characters to lowercase\n",
    "   8. strip extra whitespaces\n",
    "   9. lemmatize tokens\n",
    "   9. No need to remove stopwords because `TfidfVectorizer` will take care of that\n",
    "<br/><span style=\"color:red\" float:right>[9 point]</span>\n",
    "\n",
    "Elaboration:  This task goes beyond our lecture and you will need to look online to find examples on how to accomplish the above cleanings.  I would make heavy use of string methods like:\n",
    "- Does a string contain a substring?  Use `in`; example: `'@' in token`\n",
    "- Does a string contain a number?  Use `isdigit()`; example: `char.isdigit()`\n",
    "\n",
    "You can also use the regular expressions (regex) and its functions like `sub`.  Python's regular expression package is `re`.  Just like in class the cleaned tweets are added as a new column to `LabeledTweets`.  The new column could be called `clean_tweet`, like in class.  The presented order of the cleaning steps is probably not the best.  Establish your own order and justify your order."
   ]
  },
  {
   "cell_type": "markdown",
   "metadata": {},
   "source": [
    "### Text Cleaning Discussion\n",
    "Add Comment Here\n"
   ]
  },
  {
   "cell_type": "code",
   "execution_count": 41,
   "metadata": {},
   "outputs": [
    {
     "name": "stdout",
     "output_type": "stream",
     "text": [
      "[nltk_data] Downloading package wordnet to\n",
      "[nltk_data]     /home/ayaskanti/nltk_data...\n",
      "[nltk_data]   Package wordnet is already up-to-date!\n"
     ]
    },
    {
     "data": {
      "text/html": [
       "<div>\n",
       "<style scoped>\n",
       "    .dataframe tbody tr th:only-of-type {\n",
       "        vertical-align: middle;\n",
       "    }\n",
       "\n",
       "    .dataframe tbody tr th {\n",
       "        vertical-align: top;\n",
       "    }\n",
       "\n",
       "    .dataframe thead th {\n",
       "        text-align: right;\n",
       "    }\n",
       "</style>\n",
       "<table border=\"1\" class=\"dataframe\">\n",
       "  <thead>\n",
       "    <tr style=\"text-align: right;\">\n",
       "      <th></th>\n",
       "      <th>orig_label</th>\n",
       "      <th>context</th>\n",
       "      <th>label</th>\n",
       "      <th>clean_tweet</th>\n",
       "    </tr>\n",
       "  </thead>\n",
       "  <tbody>\n",
       "    <tr>\n",
       "      <th>0</th>\n",
       "      <td>POLIT</td>\n",
       "      <td>Global Voices Online Â» Alex Castro: A liberal...</td>\n",
       "      <td>1</td>\n",
       "      <td>global voice online alex castro a liberal libe...</td>\n",
       "    </tr>\n",
       "    <tr>\n",
       "      <th>1</th>\n",
       "      <td>POLIT</td>\n",
       "      <td>Do the Conservatives Have a Death Wish? http:/...</td>\n",
       "      <td>1</td>\n",
       "      <td>do the conservative have a death wish</td>\n",
       "    </tr>\n",
       "    <tr>\n",
       "      <th>2</th>\n",
       "      <td>NOT</td>\n",
       "      <td>@MMFlint I've seen all of your movies and Capi...</td>\n",
       "      <td>0</td>\n",
       "      <td>i ve seen all of your movie and capitalism is ...</td>\n",
       "    </tr>\n",
       "    <tr>\n",
       "      <th>3</th>\n",
       "      <td>POLIT</td>\n",
       "      <td>RT @AllianceAlert: * House Dems ask for civili...</td>\n",
       "      <td>1</td>\n",
       "      <td>rt house dems ask for civility at town hall an...</td>\n",
       "    </tr>\n",
       "    <tr>\n",
       "      <th>4</th>\n",
       "      <td>POLIT</td>\n",
       "      <td>RT @AdamSmithInst Quote of the week: My politi...</td>\n",
       "      <td>1</td>\n",
       "      <td>rt quote of the week my political opinion lean...</td>\n",
       "    </tr>\n",
       "  </tbody>\n",
       "</table>\n",
       "</div>"
      ],
      "text/plain": [
       "  orig_label                                            context  label  \\\n",
       "0      POLIT  Global Voices Online Â» Alex Castro: A liberal...      1   \n",
       "1      POLIT  Do the Conservatives Have a Death Wish? http:/...      1   \n",
       "2        NOT  @MMFlint I've seen all of your movies and Capi...      0   \n",
       "3      POLIT  RT @AllianceAlert: * House Dems ask for civili...      1   \n",
       "4      POLIT  RT @AdamSmithInst Quote of the week: My politi...      1   \n",
       "\n",
       "                                         clean_tweet  \n",
       "0  global voice online alex castro a liberal libe...  \n",
       "1              do the conservative have a death wish  \n",
       "2  i ve seen all of your movie and capitalism is ...  \n",
       "3  rt house dems ask for civility at town hall an...  \n",
       "4  rt quote of the week my political opinion lean...  "
      ]
     },
     "execution_count": 41,
     "metadata": {},
     "output_type": "execute_result"
    }
   ],
   "source": [
    "import nltk\n",
    "nltk.download('wordnet')\n",
    "\n",
    "\n",
    "from nltk.stem.wordnet import WordNetLemmatizer\n",
    "import itertools\n",
    "\n",
    "lemmatizer = WordNetLemmatizer()\n",
    "# Add code here\n",
    "def preprocess(text:str) -> str:\n",
    "    # tokenize\n",
    "    text = list(text.split())\n",
    "    \n",
    "    # A B\n",
    "    text = filter(lambda x:'@' not in x and 'http' not in x, text)\n",
    "    text= ' '.join(text)\n",
    "    \n",
    "    # C D E\n",
    "    translateToSpace = {x for x in itertools.chain(string.punctuation,'0123456789','\\t')}\n",
    "    text = map(lambda x: ' ' if x in translateToSpace or ord(x) >= 128 else x.lower(), text)\n",
    "    \n",
    "    # tokenize\n",
    "    text = ''.join(text)\n",
    "\n",
    "    # G H\n",
    "    return ' '.join(lemmatizer.lemmatize(word) for word in text.split())\n",
    "\n",
    "\n",
    "tweet_df['clean_tweet'] = tweet_df['context'].map(preprocess)\n",
    "tweet_df.head()"
   ]
  },
  {
   "cell_type": "markdown",
   "metadata": {},
   "source": [
    "5. <u>Create TF-IDF:</u> Use `TfidfVectorizer` from `sklearn` to prepare the data for machine learning.  Use `max_features = 50000`;  <span style=\"color:red\" float:right>[2 point]</span>\n",
    "\n",
    "Elaboration:  You can copy the example in lecture.  I would play with max_df, min_df, and sublinear_tf.  `fit_transform` is applied to the cleaned Tweets."
   ]
  },
  {
   "cell_type": "code",
   "execution_count": 46,
   "metadata": {},
   "outputs": [
    {
     "data": {
      "text/html": [
       "<div>\n",
       "<style scoped>\n",
       "    .dataframe tbody tr th:only-of-type {\n",
       "        vertical-align: middle;\n",
       "    }\n",
       "\n",
       "    .dataframe tbody tr th {\n",
       "        vertical-align: top;\n",
       "    }\n",
       "\n",
       "    .dataframe thead th {\n",
       "        text-align: right;\n",
       "    }\n",
       "</style>\n",
       "<table border=\"1\" class=\"dataframe\">\n",
       "  <thead>\n",
       "    <tr style=\"text-align: right;\">\n",
       "      <th></th>\n",
       "      <th>orig_label</th>\n",
       "      <th>context</th>\n",
       "      <th>label</th>\n",
       "      <th>clean_tweet</th>\n",
       "      <th>tfidf</th>\n",
       "    </tr>\n",
       "  </thead>\n",
       "  <tbody>\n",
       "    <tr>\n",
       "      <th>0</th>\n",
       "      <td>POLIT</td>\n",
       "      <td>Global Voices Online Â» Alex Castro: A liberal...</td>\n",
       "      <td>1</td>\n",
       "      <td>global voice online alex castro a liberal libe...</td>\n",
       "      <td>(0, 3705)\\t0.2742019638001817\\n  (0, 9685)\\t...</td>\n",
       "    </tr>\n",
       "    <tr>\n",
       "      <th>1</th>\n",
       "      <td>POLIT</td>\n",
       "      <td>Do the Conservatives Have a Death Wish? http:/...</td>\n",
       "      <td>1</td>\n",
       "      <td>do the conservative have a death wish</td>\n",
       "      <td>(0, 3705)\\t0.2742019638001817\\n  (0, 9685)\\t...</td>\n",
       "    </tr>\n",
       "    <tr>\n",
       "      <th>2</th>\n",
       "      <td>NOT</td>\n",
       "      <td>@MMFlint I've seen all of your movies and Capi...</td>\n",
       "      <td>0</td>\n",
       "      <td>i ve seen all of your movie and capitalism is ...</td>\n",
       "      <td>(0, 3705)\\t0.2742019638001817\\n  (0, 9685)\\t...</td>\n",
       "    </tr>\n",
       "    <tr>\n",
       "      <th>3</th>\n",
       "      <td>POLIT</td>\n",
       "      <td>RT @AllianceAlert: * House Dems ask for civili...</td>\n",
       "      <td>1</td>\n",
       "      <td>rt house dems ask for civility at town hall an...</td>\n",
       "      <td>(0, 3705)\\t0.2742019638001817\\n  (0, 9685)\\t...</td>\n",
       "    </tr>\n",
       "    <tr>\n",
       "      <th>4</th>\n",
       "      <td>POLIT</td>\n",
       "      <td>RT @AdamSmithInst Quote of the week: My politi...</td>\n",
       "      <td>1</td>\n",
       "      <td>rt quote of the week my political opinion lean...</td>\n",
       "      <td>(0, 3705)\\t0.2742019638001817\\n  (0, 9685)\\t...</td>\n",
       "    </tr>\n",
       "  </tbody>\n",
       "</table>\n",
       "</div>"
      ],
      "text/plain": [
       "  orig_label                                            context  label  \\\n",
       "0      POLIT  Global Voices Online Â» Alex Castro: A liberal...      1   \n",
       "1      POLIT  Do the Conservatives Have a Death Wish? http:/...      1   \n",
       "2        NOT  @MMFlint I've seen all of your movies and Capi...      0   \n",
       "3      POLIT  RT @AllianceAlert: * House Dems ask for civili...      1   \n",
       "4      POLIT  RT @AdamSmithInst Quote of the week: My politi...      1   \n",
       "\n",
       "                                         clean_tweet  \\\n",
       "0  global voice online alex castro a liberal libe...   \n",
       "1              do the conservative have a death wish   \n",
       "2  i ve seen all of your movie and capitalism is ...   \n",
       "3  rt house dems ask for civility at town hall an...   \n",
       "4  rt quote of the week my political opinion lean...   \n",
       "\n",
       "                                               tfidf  \n",
       "0    (0, 3705)\\t0.2742019638001817\\n  (0, 9685)\\t...  \n",
       "1    (0, 3705)\\t0.2742019638001817\\n  (0, 9685)\\t...  \n",
       "2    (0, 3705)\\t0.2742019638001817\\n  (0, 9685)\\t...  \n",
       "3    (0, 3705)\\t0.2742019638001817\\n  (0, 9685)\\t...  \n",
       "4    (0, 3705)\\t0.2742019638001817\\n  (0, 9685)\\t...  "
      ]
     },
     "execution_count": 46,
     "metadata": {},
     "output_type": "execute_result"
    }
   ],
   "source": [
    "# Add code here\n",
    "vectorizer = TfidfVectorizer(sublinear_tf = True, max_df = 0.5, max_features = 50000, stop_words = 'english')\n",
    "clean_texts = tweet_df['clean_tweet']\n",
    "tf_idf_tweets = vectorizer.fit_transform(clean_texts)\n",
    "\n",
    "tweet_df.head()"
   ]
  },
  {
   "cell_type": "markdown",
   "metadata": {},
   "source": [
    "6. <u>Train Classifier:</u> Use sklearn LogisticRegression to train a model on the results on 75% of the data. <span style=\"color:red\" float:right>[1 point]</span>\n",
    "\n",
    "Elaborate:  Just like in lecture use `train_test_split` from `sklearn` to split the vectorized features qlong with the target, `LabeledTweets.Sentiment`.  Fit a logistic regression using the resulting training data.  "
   ]
  },
  {
   "cell_type": "code",
   "execution_count": 49,
   "metadata": {},
   "outputs": [
    {
     "name": "stdout",
     "output_type": "stream",
     "text": [
      "<class 'scipy.sparse.csr.csr_matrix'> (3204, 10209)\n"
     ]
    },
    {
     "name": "stderr",
     "output_type": "stream",
     "text": [
      "/home/ayaskanti/.local/lib/python3.6/site-packages/sklearn/linear_model/logistic.py:433: FutureWarning: Default solver will be changed to 'lbfgs' in 0.22. Specify a solver to silence this warning.\n",
      "  FutureWarning)\n"
     ]
    },
    {
     "data": {
      "text/plain": [
       "LogisticRegression(C=1.0, class_weight=None, dual=False, fit_intercept=True,\n",
       "          intercept_scaling=1, max_iter=100, multi_class='warn',\n",
       "          n_jobs=None, penalty='l2', random_state=None, solver='warn',\n",
       "          tol=0.0001, verbose=0, warm_start=False)"
      ]
     },
     "execution_count": 49,
     "metadata": {},
     "output_type": "execute_result"
    }
   ],
   "source": [
    "# Add code here\n",
    "X_train, X_test, y_train, y_test = train_test_split(tf_idf_tweets, tweet_df['label'], test_size = 800, random_state = 42)\n",
    "print(type(X_train), X_train.shape)\n",
    "lr = LogisticRegression()\n",
    "lr.fit(X_train, y_train)"
   ]
  },
  {
   "cell_type": "markdown",
   "metadata": {},
   "source": [
    "7. <u>Determine Accuracies:</u>  Determine the accuracy on the training data and the test data.   Determine the baseline accuracy. <span style=\"color:red\" float:right>[1 point]</span>\n",
    "\n",
    "Elaboration:  The only accuracy measure required is accuracy rate.  Accuracy rate is determined by correct predictions divided by all predictions.  In lecture these were called Train accuracy, Test accuracy, and Baseline accuracy.  The Baseline accuracy can be determinbed by taking the support of the larger class and dividing it by the total number of cases (tweets).  As we will discuss in a later lecture, only Test accuracy is a \"real\" accuracy.   "
   ]
  },
  {
   "cell_type": "code",
   "execution_count": 52,
   "metadata": {},
   "outputs": [
    {
     "name": "stdout",
     "output_type": "stream",
     "text": [
      "Train accuracy: 0.954119850187266\n",
      "Test accuracy: 0.865\n",
      "Baseline accuracy: 0.54125\n"
     ]
    }
   ],
   "source": [
    "# Add code here\n",
    "train_results = lr.predict(X_train)\n",
    "test_results = lr.predict(X_test)\n",
    "\n",
    "train_acc = np.mean(y_train == train_results)\n",
    "test_acc = np.mean(y_test == test_results)\n",
    "\n",
    "print('Train accuracy: {}'.format(train_acc))\n",
    "print('Test accuracy: {}'.format(test_acc))\n",
    "print('Baseline accuracy: {}'.format(np.max([np.mean(y_test == 1), np.mean(y_test == 0)])))"
   ]
  },
  {
   "cell_type": "markdown",
   "metadata": {},
   "source": [
    "8. <u>Relate number of features to accuracy:</u> Repeat steps 5, 6, and 7  with `TfidfVectorizer` `max_features` set to 1, 2, 5, 15, 50, 150, 500, 1500, 5000, 50000 and discuss your accuracies. <span style=\"color:red\" float:right>[2 point]</span>\n",
    "\n",
    "Elaboration:  Create a for-loop where `max_features` is 1, 2, 5, 15, 50, 150, 500, 1500, 5000, 50000.  Plot the training and test accuracies vs number of features on a log plot.  Discuss the behavior of the graphs."
   ]
  },
  {
   "cell_type": "code",
   "execution_count": 93,
   "metadata": {},
   "outputs": [
    {
     "name": "stderr",
     "output_type": "stream",
     "text": [
      "/home/ayaskanti/.local/lib/python3.6/site-packages/sklearn/linear_model/logistic.py:433: FutureWarning: Default solver will be changed to 'lbfgs' in 0.22. Specify a solver to silence this warning.\n",
      "  FutureWarning)\n",
      "/usr/lib/python3/dist-packages/seaborn/categorical.py:1508: FutureWarning: remove_na is deprecated and is a private function. Do not use.\n",
      "  stat_data = remove_na(group_data[hue_mask])\n"
     ]
    },
    {
     "data": {
      "text/plain": [
       "<matplotlib.axes._subplots.AxesSubplot at 0x7ff7e1c6d4e0>"
      ]
     },
     "execution_count": 93,
     "metadata": {},
     "output_type": "execute_result"
    },
    {
     "data": {
      "image/png": "[encoded data removed]",
      "text/plain": [
       "<Figure size 432x288 with 1 Axes>"
      ]
     },
     "metadata": {},
     "output_type": "display_data"
    }
   ],
   "source": [
    "import seaborn as sea\n",
    "from operator import itemgetter\n",
    "\n",
    "# Add code here\n",
    "def modelMaker(max_features):\n",
    "    vectorizer = TfidfVectorizer(sublinear_tf = True, max_df = 0.5, max_features = max_features, stop_words = 'english')\n",
    "    clean_texts = tweet_df['clean_tweet']\n",
    "    tf_idf_tweets = vectorizer.fit_transform(clean_texts)\n",
    "\n",
    "    #tweet_df.head()\n",
    "    X_train, X_test, y_train, y_test = train_test_split(tf_idf_tweets, tweet_df['label'], test_size = 800, random_state = 42)\n",
    "    #print(type(X_train), X_train.shape)\n",
    "    lr = LogisticRegression()\n",
    "    lr.fit(X_train, y_train)\n",
    "    \n",
    "    train_results = lr.predict(X_train)\n",
    "    test_results = lr.predict(X_test)\n",
    "\n",
    "    train_acc = np.mean(y_train == train_results)\n",
    "    test_acc = np.mean(y_test == test_results)\n",
    "\n",
    "    return (train_acc, test_acc )#, np.max([np.mean(y_test == 1), np.mean(y_test == 0)])]\n",
    "\n",
    "featList = [1, 2, 5, 15, 50, 150, 500, 1500, 5000, 50000]\n",
    "trainTest = [modelMaker(x) for x in featList]\n",
    "trainList= list(map(itemgetter(0),trainTest))\n",
    "testList= list(map(itemgetter(1),trainTest))\n",
    "\n",
    "trainData= pd.DataFrame(data={'feat':featList,'acc':trainList,'type':'train'})\n",
    "testData= pd.DataFrame(data={'feat':featList,'acc':testList,'type':'test'})\n",
    "\n",
    "pltdata = testData.append(trainData)\n",
    "pltdata.head()\n",
    "sea.barplot(data=pltdata,x='feat',y='acc',hue='type')"
   ]
  },
  {
   "cell_type": "markdown",
   "metadata": {},
   "source": [
    "### Discuss accuracies in respect to number of features\n",
    "When we used more feature , the accuracy on training set increased.\n",
    "\n",
    "But unlike training set, by using features upto 150 we got best test-accuracy and after that it declined.\n",
    "\n",
    "This means that more feature does not always give better model, after certain point it plateau.\n"
   ]
  },
  {
   "cell_type": "markdown",
   "metadata": {},
   "source": [
    "# End of assignment"
   ]
  },
  {
   "cell_type": "code",
   "execution_count": null,
   "metadata": {},
   "outputs": [],
   "source": []
  }
 ],
 "metadata": {
  "kernelspec": {
   "display_name": "Python 3",
   "language": "python",
   "name": "python3"
  },
  "language_info": {
   "codemirror_mode": {
    "name": "ipython",
    "version": 3
   },
   "file_extension": ".py",
   "mimetype": "text/x-python",
   "name": "python",
   "nbconvert_exporter": "python",
   "pygments_lexer": "ipython3",
   "version": "3.6.9"
  }
 },
 "nbformat": 4,
 "nbformat_minor": 5
}
